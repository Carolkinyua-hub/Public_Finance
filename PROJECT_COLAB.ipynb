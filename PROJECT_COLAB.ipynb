{
  "cells": [
    {
      "cell_type": "markdown",
      "metadata": {
        "id": "7ZBGkn7jx8td"
      },
      "source": [
        "\n",
        "## IS KENYA LIVING BEYOND HER MEANS?\n",
        "\n",
        "\n",
        "\n",
        "\n",
        "---\n",
        "\n",
        "\n",
        "\n",
        "# The following analysis aims to analyze the trend of Kenya's Income and Expenditure levels vs Debt over a 20 year period.\n",
        "\n",
        "---\n",
        "\n",
        "\n",
        "\n",
        " # Research Objectives:\n",
        "\n",
        "* To describe the expenditure and revenue levels .\n",
        "\n",
        "* To Support or negate the hypothesis that Kenya does live beyond her means per regime.\n",
        "\n",
        "* Predict the expenditure and revenue levels over the next 5 years.\n",
        "\n",
        "\n",
        "\n",
        "---\n",
        "\n",
        "\n",
        "# Type of analysis:\n",
        "\n",
        "\n",
        "1.   Time series analysis.\n",
        "2.   Trend analysis.\n",
        "3.   ARIMA modelling.\n",
        "\n",
        "# Data Analysis steps\n",
        "\n",
        "\n",
        "1.   Data preprocessing.\n",
        "2.   Exploratory Data Analysis.\n",
        "3.   Predictive Analysis.\n",
        "\n",
        "\n",
        "\n"
      ]
    },
    {
      "cell_type": "code",
      "execution_count": 201,
      "metadata": {
        "id": "90SavdPS49Hx"
      },
      "outputs": [],
      "source": [
        "import pandas as pd\n",
        "import numpy as np\n",
        "import matplotlib.pyplot as plt\n",
        "%matplotlib inline\n",
        "import seaborn as sns\n",
        "from datetime import datetime\n",
        "from statsmodels.tsa.stattools import adfuller\n",
        "from statsmodels.tsa.arima.model import ARIMA\n",
        "from statsmodels.graphics.tsaplots import plot_acf\n",
        "from statsmodels.graphics.tsaplots import plot_pacf\n",
        "from sklearn.preprocessing import StandardScaler"
      ]
    },
    {
      "cell_type": "markdown",
      "metadata": {
        "id": "EW5MvbROXcwn"
      },
      "source": [
        "# Load the Revenue, Expenditure and Debt datasets.\n",
        "\n",
        "\n"
      ]
    },
    {
      "cell_type": "code",
      "execution_count": null,
      "metadata": {
        "id": "PpX2SOhCL1Is"
      },
      "outputs": [],
      "source": [
        "Revenue_Expenditure=pd.read_csv(\"https://raw.githubusercontent.com/Carolkinyua-hub/Public_Finance/main/508057315_Revenue%20and%20Expenditure%20(2).csv\", parse_dates=True)"
      ]
    },
    {
      "cell_type": "code",
      "execution_count": 277,
      "metadata": {
        "id": "Os8S8aDmh9Yj"
      },
      "outputs": [],
      "source": [
        "Debt=pd.read_csv(\"https://raw.githubusercontent.com/Carolkinyua-hub/Public_Finance/main/567245444_Public%20Debt%20-%20567245444_Public%20Debt.csv\",skiprows=3,parse_dates=True)"
      ]
    },
    {
      "cell_type": "code",
      "execution_count": null,
      "metadata": {
        "colab": {
          "base_uri": "https://localhost:8080/",
          "height": 334
        },
        "id": "DiHES0HflKqY",
        "outputId": "2760b03b-bdad-4ad8-ed7f-9c3408a64d2d"
      },
      "outputs": [
        {
          "output_type": "execute_result",
          "data": {
            "text/plain": [
              "   FISCAL YEAR  MONTH Import Duty Excise Duty Income Tax        VAT  \\\n",
              "0         1999      9    7,157.00    6,869.00  12,054.00   9,255.00   \n",
              "1         1999     12   13,912.00   14,007.00  25,545.00  19,734.00   \n",
              "2         2000      3   21,407.00   21,182.00  37,156.00  30,091.00   \n",
              "3         2000      6   28,605.00   28,493.00  54,402.00  40,944.00   \n",
              "4         2000      7    2,813.00    1,572.00   2,905.00   2,708.00   \n",
              "\n",
              "  OTHER TAX INCOME   TOTAL TAX NON-TAX  REVENUE TOTAL REVENUE  ...  \\\n",
              "0              NaN   35,335.00         5,979.00     41,314.00  ...   \n",
              "1              NaN   73,198.00        13,131.00     86,329.00  ...   \n",
              "2              NaN  109,836.00        20,756.00    130,592.00  ...   \n",
              "3              NaN  152,444.00        25,999.00    178,443.00  ...   \n",
              "4              NaN    9,998.00         1,617.00     11,615.00  ...   \n",
              "\n",
              "  Total Grants Domestic Interest  Foreign Interest Wages & Salaries  Pensions  \\\n",
              "0     1,203.00           3,816.00         3,068.00        16,749.00  1,387.00   \n",
              "1     2,540.00           8,935.00         4,597.00        33,483.00  2,520.00   \n",
              "2     3,663.00          15,784.00         6,039.00        50,232.00  3,732.00   \n",
              "3     4,247.00          20,752.00         8,635.00        65,861.00  5,145.00   \n",
              "4          323           2,739.00              746         5,805.00       543   \n",
              "\n",
              "       Other TOTAL RECURRENT EXPENDITURE County Transfer EXPENDITURE  \\\n",
              "0  12,919.00                   37,939.00             NaN    6,539.00   \n",
              "1  24,135.00                   73,670.00             NaN   12,765.00   \n",
              "2  39,481.00                  115,268.00             NaN   22,493.00   \n",
              "3  56,142.00                  156,535.00             NaN   18,584.00   \n",
              "4   4,225.00                   14,058.00             NaN    1,360.00   \n",
              "\n",
              "  TOTAL EXPENDITURE  \n",
              "0         44,478.00  \n",
              "1         86,435.00  \n",
              "2        137,761.00  \n",
              "3        175,119.00  \n",
              "4         15,418.00  \n",
              "\n",
              "[5 rows x 22 columns]"
            ],
            "text/html": [
              "\n",
              "  <div id=\"df-7f42d831-39a4-409a-a4e8-319d59692db0\">\n",
              "    <div class=\"colab-df-container\">\n",
              "      <div>\n",
              "<style scoped>\n",
              "    .dataframe tbody tr th:only-of-type {\n",
              "        vertical-align: middle;\n",
              "    }\n",
              "\n",
              "    .dataframe tbody tr th {\n",
              "        vertical-align: top;\n",
              "    }\n",
              "\n",
              "    .dataframe thead th {\n",
              "        text-align: right;\n",
              "    }\n",
              "</style>\n",
              "<table border=\"1\" class=\"dataframe\">\n",
              "  <thead>\n",
              "    <tr style=\"text-align: right;\">\n",
              "      <th></th>\n",
              "      <th>FISCAL YEAR</th>\n",
              "      <th>MONTH</th>\n",
              "      <th>Import Duty</th>\n",
              "      <th>Excise Duty</th>\n",
              "      <th>Income Tax</th>\n",
              "      <th>VAT</th>\n",
              "      <th>OTHER TAX INCOME</th>\n",
              "      <th>TOTAL TAX</th>\n",
              "      <th>NON-TAX  REVENUE</th>\n",
              "      <th>TOTAL REVENUE</th>\n",
              "      <th>...</th>\n",
              "      <th>Total Grants</th>\n",
              "      <th>Domestic Interest</th>\n",
              "      <th>Foreign Interest</th>\n",
              "      <th>Wages &amp; Salaries</th>\n",
              "      <th>Pensions</th>\n",
              "      <th>Other</th>\n",
              "      <th>TOTAL RECURRENT EXPENDITURE</th>\n",
              "      <th>County Transfer</th>\n",
              "      <th>EXPENDITURE</th>\n",
              "      <th>TOTAL EXPENDITURE</th>\n",
              "    </tr>\n",
              "  </thead>\n",
              "  <tbody>\n",
              "    <tr>\n",
              "      <th>0</th>\n",
              "      <td>1999</td>\n",
              "      <td>9</td>\n",
              "      <td>7,157.00</td>\n",
              "      <td>6,869.00</td>\n",
              "      <td>12,054.00</td>\n",
              "      <td>9,255.00</td>\n",
              "      <td>NaN</td>\n",
              "      <td>35,335.00</td>\n",
              "      <td>5,979.00</td>\n",
              "      <td>41,314.00</td>\n",
              "      <td>...</td>\n",
              "      <td>1,203.00</td>\n",
              "      <td>3,816.00</td>\n",
              "      <td>3,068.00</td>\n",
              "      <td>16,749.00</td>\n",
              "      <td>1,387.00</td>\n",
              "      <td>12,919.00</td>\n",
              "      <td>37,939.00</td>\n",
              "      <td>NaN</td>\n",
              "      <td>6,539.00</td>\n",
              "      <td>44,478.00</td>\n",
              "    </tr>\n",
              "    <tr>\n",
              "      <th>1</th>\n",
              "      <td>1999</td>\n",
              "      <td>12</td>\n",
              "      <td>13,912.00</td>\n",
              "      <td>14,007.00</td>\n",
              "      <td>25,545.00</td>\n",
              "      <td>19,734.00</td>\n",
              "      <td>NaN</td>\n",
              "      <td>73,198.00</td>\n",
              "      <td>13,131.00</td>\n",
              "      <td>86,329.00</td>\n",
              "      <td>...</td>\n",
              "      <td>2,540.00</td>\n",
              "      <td>8,935.00</td>\n",
              "      <td>4,597.00</td>\n",
              "      <td>33,483.00</td>\n",
              "      <td>2,520.00</td>\n",
              "      <td>24,135.00</td>\n",
              "      <td>73,670.00</td>\n",
              "      <td>NaN</td>\n",
              "      <td>12,765.00</td>\n",
              "      <td>86,435.00</td>\n",
              "    </tr>\n",
              "    <tr>\n",
              "      <th>2</th>\n",
              "      <td>2000</td>\n",
              "      <td>3</td>\n",
              "      <td>21,407.00</td>\n",
              "      <td>21,182.00</td>\n",
              "      <td>37,156.00</td>\n",
              "      <td>30,091.00</td>\n",
              "      <td>NaN</td>\n",
              "      <td>109,836.00</td>\n",
              "      <td>20,756.00</td>\n",
              "      <td>130,592.00</td>\n",
              "      <td>...</td>\n",
              "      <td>3,663.00</td>\n",
              "      <td>15,784.00</td>\n",
              "      <td>6,039.00</td>\n",
              "      <td>50,232.00</td>\n",
              "      <td>3,732.00</td>\n",
              "      <td>39,481.00</td>\n",
              "      <td>115,268.00</td>\n",
              "      <td>NaN</td>\n",
              "      <td>22,493.00</td>\n",
              "      <td>137,761.00</td>\n",
              "    </tr>\n",
              "    <tr>\n",
              "      <th>3</th>\n",
              "      <td>2000</td>\n",
              "      <td>6</td>\n",
              "      <td>28,605.00</td>\n",
              "      <td>28,493.00</td>\n",
              "      <td>54,402.00</td>\n",
              "      <td>40,944.00</td>\n",
              "      <td>NaN</td>\n",
              "      <td>152,444.00</td>\n",
              "      <td>25,999.00</td>\n",
              "      <td>178,443.00</td>\n",
              "      <td>...</td>\n",
              "      <td>4,247.00</td>\n",
              "      <td>20,752.00</td>\n",
              "      <td>8,635.00</td>\n",
              "      <td>65,861.00</td>\n",
              "      <td>5,145.00</td>\n",
              "      <td>56,142.00</td>\n",
              "      <td>156,535.00</td>\n",
              "      <td>NaN</td>\n",
              "      <td>18,584.00</td>\n",
              "      <td>175,119.00</td>\n",
              "    </tr>\n",
              "    <tr>\n",
              "      <th>4</th>\n",
              "      <td>2000</td>\n",
              "      <td>7</td>\n",
              "      <td>2,813.00</td>\n",
              "      <td>1,572.00</td>\n",
              "      <td>2,905.00</td>\n",
              "      <td>2,708.00</td>\n",
              "      <td>NaN</td>\n",
              "      <td>9,998.00</td>\n",
              "      <td>1,617.00</td>\n",
              "      <td>11,615.00</td>\n",
              "      <td>...</td>\n",
              "      <td>323</td>\n",
              "      <td>2,739.00</td>\n",
              "      <td>746</td>\n",
              "      <td>5,805.00</td>\n",
              "      <td>543</td>\n",
              "      <td>4,225.00</td>\n",
              "      <td>14,058.00</td>\n",
              "      <td>NaN</td>\n",
              "      <td>1,360.00</td>\n",
              "      <td>15,418.00</td>\n",
              "    </tr>\n",
              "  </tbody>\n",
              "</table>\n",
              "<p>5 rows × 22 columns</p>\n",
              "</div>\n",
              "      <button class=\"colab-df-convert\" onclick=\"convertToInteractive('df-7f42d831-39a4-409a-a4e8-319d59692db0')\"\n",
              "              title=\"Convert this dataframe to an interactive table.\"\n",
              "              style=\"display:none;\">\n",
              "        \n",
              "  <svg xmlns=\"http://www.w3.org/2000/svg\" height=\"24px\"viewBox=\"0 0 24 24\"\n",
              "       width=\"24px\">\n",
              "    <path d=\"M0 0h24v24H0V0z\" fill=\"none\"/>\n",
              "    <path d=\"M18.56 5.44l.94 2.06.94-2.06 2.06-.94-2.06-.94-.94-2.06-.94 2.06-2.06.94zm-11 1L8.5 8.5l.94-2.06 2.06-.94-2.06-.94L8.5 2.5l-.94 2.06-2.06.94zm10 10l.94 2.06.94-2.06 2.06-.94-2.06-.94-.94-2.06-.94 2.06-2.06.94z\"/><path d=\"M17.41 7.96l-1.37-1.37c-.4-.4-.92-.59-1.43-.59-.52 0-1.04.2-1.43.59L10.3 9.45l-7.72 7.72c-.78.78-.78 2.05 0 2.83L4 21.41c.39.39.9.59 1.41.59.51 0 1.02-.2 1.41-.59l7.78-7.78 2.81-2.81c.8-.78.8-2.07 0-2.86zM5.41 20L4 18.59l7.72-7.72 1.47 1.35L5.41 20z\"/>\n",
              "  </svg>\n",
              "      </button>\n",
              "      \n",
              "  <style>\n",
              "    .colab-df-container {\n",
              "      display:flex;\n",
              "      flex-wrap:wrap;\n",
              "      gap: 12px;\n",
              "    }\n",
              "\n",
              "    .colab-df-convert {\n",
              "      background-color: #E8F0FE;\n",
              "      border: none;\n",
              "      border-radius: 50%;\n",
              "      cursor: pointer;\n",
              "      display: none;\n",
              "      fill: #1967D2;\n",
              "      height: 32px;\n",
              "      padding: 0 0 0 0;\n",
              "      width: 32px;\n",
              "    }\n",
              "\n",
              "    .colab-df-convert:hover {\n",
              "      background-color: #E2EBFA;\n",
              "      box-shadow: 0px 1px 2px rgba(60, 64, 67, 0.3), 0px 1px 3px 1px rgba(60, 64, 67, 0.15);\n",
              "      fill: #174EA6;\n",
              "    }\n",
              "\n",
              "    [theme=dark] .colab-df-convert {\n",
              "      background-color: #3B4455;\n",
              "      fill: #D2E3FC;\n",
              "    }\n",
              "\n",
              "    [theme=dark] .colab-df-convert:hover {\n",
              "      background-color: #434B5C;\n",
              "      box-shadow: 0px 1px 3px 1px rgba(0, 0, 0, 0.15);\n",
              "      filter: drop-shadow(0px 1px 2px rgba(0, 0, 0, 0.3));\n",
              "      fill: #FFFFFF;\n",
              "    }\n",
              "  </style>\n",
              "\n",
              "      <script>\n",
              "        const buttonEl =\n",
              "          document.querySelector('#df-7f42d831-39a4-409a-a4e8-319d59692db0 button.colab-df-convert');\n",
              "        buttonEl.style.display =\n",
              "          google.colab.kernel.accessAllowed ? 'block' : 'none';\n",
              "\n",
              "        async function convertToInteractive(key) {\n",
              "          const element = document.querySelector('#df-7f42d831-39a4-409a-a4e8-319d59692db0');\n",
              "          const dataTable =\n",
              "            await google.colab.kernel.invokeFunction('convertToInteractive',\n",
              "                                                     [key], {});\n",
              "          if (!dataTable) return;\n",
              "\n",
              "          const docLinkHtml = 'Like what you see? Visit the ' +\n",
              "            '<a target=\"_blank\" href=https://colab.research.google.com/notebooks/data_table.ipynb>data table notebook</a>'\n",
              "            + ' to learn more about interactive tables.';\n",
              "          element.innerHTML = '';\n",
              "          dataTable['output_type'] = 'display_data';\n",
              "          await google.colab.output.renderOutput(dataTable, element);\n",
              "          const docLink = document.createElement('div');\n",
              "          docLink.innerHTML = docLinkHtml;\n",
              "          element.appendChild(docLink);\n",
              "        }\n",
              "      </script>\n",
              "    </div>\n",
              "  </div>\n",
              "  "
            ]
          },
          "metadata": {},
          "execution_count": 46
        }
      ],
      "source": [
        "Revenue_Expenditure.head()"
      ]
    },
    {
      "cell_type": "code",
      "source": [
        "print(\"There are, data points \", Revenue_Expenditure.shape)"
      ],
      "metadata": {
        "colab": {
          "base_uri": "https://localhost:8080/"
        },
        "id": "E7dL5oc0fhkg",
        "outputId": "b0e2c619-8199-4b58-d32d-15472e892088"
      },
      "execution_count": null,
      "outputs": [
        {
          "output_type": "stream",
          "name": "stdout",
          "text": [
            "There are, data points  (270, 22)\n"
          ]
        }
      ]
    },
    {
      "cell_type": "code",
      "source": [
        "print(Revenue_Expenditure.columns)"
      ],
      "metadata": {
        "colab": {
          "base_uri": "https://localhost:8080/"
        },
        "id": "wzUHpEkJl7sF",
        "outputId": "991a2c58-45a3-43e0-fab4-ed624785a2aa"
      },
      "execution_count": null,
      "outputs": [
        {
          "output_type": "stream",
          "name": "stdout",
          "text": [
            "Index(['FISCAL YEAR', 'Import Duty', 'Excise Duty', 'Income Tax', 'VAT',\n",
            "       'OTHER TAX INCOME', 'TOTAL TAX', 'NON-TAX  REVENUE', 'TOTAL REVENUE',\n",
            "       'Programme Grants', 'Projects Grants', 'Total Grants',\n",
            "       'Domestic Interest ', 'Foreign Interest', 'Wages & Salaries',\n",
            "       'Pensions', 'Other', 'TOTAL RECURRENT EXPENDITURE', 'County Transfer',\n",
            "       'EXPENDITURE', 'TOTAL EXPENDITURE'],\n",
            "      dtype='object')\n"
          ]
        }
      ]
    },
    {
      "cell_type": "markdown",
      "metadata": {
        "id": "2J7Kmt-hIUlT"
      },
      "source": [
        "# Data Cleaning"
      ]
    },
    {
      "cell_type": "markdown",
      "source": [
        "## Identifying any missing values."
      ],
      "metadata": {
        "id": "GJcZ2dhUj6SZ"
      }
    },
    {
      "cell_type": "code",
      "execution_count": null,
      "metadata": {
        "colab": {
          "base_uri": "https://localhost:8080/"
        },
        "id": "NyH58O2OASRi",
        "outputId": "9d56b7a6-a099-496d-8967-6f904352beef"
      },
      "outputs": [
        {
          "output_type": "execute_result",
          "data": {
            "text/plain": [
              "FISCAL YEAR                    False\n",
              "MONTH                          False\n",
              "Import Duty                    False\n",
              "Excise Duty                    False\n",
              "Income Tax                     False\n",
              "VAT                            False\n",
              "OTHER TAX INCOME                True\n",
              "TOTAL TAX                      False\n",
              "NON-TAX  REVENUE               False\n",
              "TOTAL REVENUE                  False\n",
              "Programme Grants                True\n",
              "Projects Grants                False\n",
              "Total Grants                   False\n",
              "Domestic Interest              False\n",
              "Foreign Interest               False\n",
              "Wages & Salaries               False\n",
              "Pensions                       False\n",
              "Other                          False\n",
              "TOTAL RECURRENT EXPENDITURE    False\n",
              "County Transfer                 True\n",
              "EXPENDITURE                    False\n",
              "TOTAL EXPENDITURE              False\n",
              "dtype: bool"
            ]
          },
          "metadata": {},
          "execution_count": 48
        }
      ],
      "source": [
        "#Data Cleaning\n",
        "Revenue_Expenditure.isnull().any()"
      ]
    },
    {
      "cell_type": "code",
      "execution_count": null,
      "metadata": {
        "colab": {
          "base_uri": "https://localhost:8080/"
        },
        "id": "gbnFvpQotP-f",
        "outputId": "0a87a0cc-a64c-4b37-8dd9-1928e311479d"
      },
      "outputs": [
        {
          "output_type": "stream",
          "name": "stdout",
          "text": [
            "FISCAL YEAR                     0.000000\n",
            "MONTH                           0.000000\n",
            "Import Duty                     0.000000\n",
            "Excise Duty                     0.000000\n",
            "Income Tax                      0.000000\n",
            "VAT                             0.000000\n",
            "OTHER TAX INCOME               65.925926\n",
            "TOTAL TAX                       0.000000\n",
            "NON-TAX  REVENUE                0.000000\n",
            "TOTAL REVENUE                   0.000000\n",
            "Programme Grants               17.037037\n",
            "Projects Grants                 0.000000\n",
            "Total Grants                    0.000000\n",
            "Domestic Interest               0.000000\n",
            "Foreign Interest                0.000000\n",
            "Wages & Salaries                0.000000\n",
            "Pensions                        0.000000\n",
            "Other                           0.000000\n",
            "TOTAL RECURRENT EXPENDITURE     0.000000\n",
            "County Transfer                59.629630\n",
            "EXPENDITURE                     0.000000\n",
            "TOTAL EXPENDITURE               0.000000\n",
            "dtype: float64\n"
          ]
        }
      ],
      "source": [
        "print(Revenue_Expenditure.isnull().mean()*100)"
      ]
    },
    {
      "cell_type": "markdown",
      "source": [
        "# Data Cleaning formula"
      ],
      "metadata": {
        "id": "phpgd4t0lc_a"
      }
    },
    {
      "cell_type": "markdown",
      "source": [
        "# Converting data object type to integer"
      ],
      "metadata": {
        "id": "0t6_X8wDz42J"
      }
    },
    {
      "cell_type": "code",
      "source": [
        "#Consolidate Columns\n",
        "# Drop Collumns\n",
        "#Aggregate Data\n",
        "#Prepare data for analysis\n",
        "Revenue_Expenditure=Revenue_Expenditure.fillna(0)\n",
        "Revenue_Expenditure['TOTAL REVENUE'] = Revenue_Expenditure['TOTAL REVENUE'].astype(float).astype(int)\n",
        "Revenue_Expenditure['TOTAL EXPENDITURE'] = Revenue_Expenditure['TOTAL EXPENDITURE'].astype(float).astype(int)\n",
        "Revenue_Expenditure['CUM TOTAL EXPENDITURE'] = Revenue_Expenditure['TOTAL EXPENDITURE'].cumsum()\n",
        "Revenue_Expenditure['CUM TOTAL REVENUE'] = Revenue_Expenditure['TOTAL REVENUE'].cumsum()\n",
        "Revenue_Expenditure['DEFICIT'] = Revenue_Expenditure['TOTAL EXPENDITURE'] - Revenue_Expenditure['TOTAL REVENUE']\n",
        "Revenue_Expenditure['CUM DEFICIT'] = Revenue_Expenditure['DEFICIT'].cumsum()\n"
      ],
      "metadata": {
        "id": "njuQhYCTk_Qp"
      },
      "execution_count": 151,
      "outputs": []
    },
    {
      "cell_type": "code",
      "source": [
        "Revenue_Expenditure['Import Duty']= Revenue_Expenditure['Import Duty'].astype(float).astype(int)\n",
        "Revenue_Expenditure['Excise Duty']= Revenue_Expenditure['Excise Duty'].astype(float).astype(int)\n",
        "Revenue_Expenditure['Income Tax']= Revenue_Expenditure['Income Tax'].astype(float).astype(int)\n",
        "Revenue_Expenditure['VAT']= Revenue_Expenditure['VAT'].astype(float).astype(int)\n",
        "Revenue_Expenditure['OTHER TAX INCOME']= Revenue_Expenditure['OTHER TAX INCOME']\n",
        "Revenue_Expenditure['TOTAL TAX']= Revenue_Expenditure['TOTAL TAX'].astype(float).astype(int)\n",
        "Revenue_Expenditure['NON-TAX  REVENUE']= Revenue_Expenditure['NON-TAX  REVENUE'].astype(float).astype(int)\n",
        "Revenue_Expenditure['TOTAL TAX']= Revenue_Expenditure['TOTAL TAX'].astype(float).astype(int)\n",
        "#Revenue_Expenditure['Programme Grants']= Revenue_Expenditure['Programme Grants'].astype(float).astype(int)\n"
      ],
      "metadata": {
        "id": "SvFjpWBDww4-"
      },
      "execution_count": 168,
      "outputs": []
    },
    {
      "cell_type": "code",
      "source": [
        "Revenue_Expenditure['Projects Grants']= Revenue_Expenditure['Projects Grants'].astype(float).astype(int)\n",
        "Revenue_Expenditure[ 'Total Grants']= Revenue_Expenditure['Total Grants'].astype(float).astype(int)\n",
        "#Revenue_Expenditure ['Domestic Interest ']= Revenue_Expenditure['Domestic Interest'].astype(float).astype(int)\n",
        "Revenue_Expenditure[ 'Foreign Interest']= Revenue_Expenditure['Foreign Interest'].astype(float).astype(int)\n",
        "Revenue_Expenditure[ 'Wages & Salaries']= Revenue_Expenditure['Wages & Salaries'].astype(float).astype(int)\n",
        "Revenue_Expenditure['Pensions']= Revenue_Expenditure['Pensions'].astype(float).astype(int)\n",
        "Revenue_Expenditure[ 'Other']= Revenue_Expenditure['Other'].astype(float).astype(int)\n",
        "Revenue_Expenditure['TOTAL RECURRENT EXPENDITURE']= Revenue_Expenditure['TOTAL RECURRENT EXPENDITURE'].astype(float).astype(int)\n",
        "#Revenue_Expenditure[ 'County Transfer']= Revenue_Expenditure['County Transfer'].str.replace(',','').astype(float).astype(int)"
      ],
      "metadata": {
        "id": "nJDzJS8lyG37"
      },
      "execution_count": 181,
      "outputs": []
    },
    {
      "cell_type": "code",
      "source": [
        "Revenue_Expenditure.dtypes"
      ],
      "metadata": {
        "colab": {
          "base_uri": "https://localhost:8080/"
        },
        "id": "ql4Q9hFfrFzE",
        "outputId": "50d14038-60d4-4763-a029-631a0548d495"
      },
      "execution_count": 182,
      "outputs": [
        {
          "output_type": "execute_result",
          "data": {
            "text/plain": [
              "FISCAL YEAR                     int64\n",
              "Import Duty                     int64\n",
              "Excise Duty                     int64\n",
              "Income Tax                      int64\n",
              "VAT                             int64\n",
              "OTHER TAX INCOME               object\n",
              "TOTAL TAX                       int64\n",
              "NON-TAX  REVENUE                int64\n",
              "TOTAL REVENUE                   int64\n",
              "Programme Grants               object\n",
              "Projects Grants                 int64\n",
              "Total Grants                    int64\n",
              "Domestic Interest              object\n",
              "Foreign Interest                int64\n",
              "Wages & Salaries                int64\n",
              "Pensions                        int64\n",
              "Other                           int64\n",
              "TOTAL RECURRENT EXPENDITURE     int64\n",
              "County Transfer                object\n",
              "EXPENDITURE                    object\n",
              "TOTAL EXPENDITURE               int64\n",
              "CUM TOTAL EXPENDITURE           int64\n",
              "CUM TOTAL REVENUE               int64\n",
              "DEFICIT                         int64\n",
              "CUM DEFICIT                     int64\n",
              "dtype: object"
            ]
          },
          "metadata": {},
          "execution_count": 182
        }
      ]
    },
    {
      "cell_type": "markdown",
      "source": [
        "#Data Normalization"
      ],
      "metadata": {
        "id": "TtbDYTyl0znQ"
      }
    },
    {
      "cell_type": "code",
      "source": [
        "Revenue_Expenditure.columns"
      ],
      "metadata": {
        "colab": {
          "base_uri": "https://localhost:8080/"
        },
        "id": "tpDk1DP15cDB",
        "outputId": "389fbccf-787a-4e10-fdf2-29dbe569b5e9"
      },
      "execution_count": 206,
      "outputs": [
        {
          "output_type": "execute_result",
          "data": {
            "text/plain": [
              "Index(['FISCAL YEAR', 'Import Duty', 'Excise Duty', 'Income Tax', 'VAT',\n",
              "       'OTHER TAX INCOME', 'TOTAL TAX', 'NON-TAX  REVENUE', 'TOTAL REVENUE',\n",
              "       'Programme Grants', 'Projects Grants', 'Total Grants',\n",
              "       'Domestic Interest ', 'Foreign Interest', 'Wages & Salaries',\n",
              "       'Pensions', 'Other', 'TOTAL RECURRENT EXPENDITURE', 'County Transfer',\n",
              "       'EXPENDITURE', 'TOTAL EXPENDITURE', 'CUM TOTAL EXPENDITURE',\n",
              "       'CUM TOTAL REVENUE', 'DEFICIT', 'CUM DEFICIT', 'Total_Duty'],\n",
              "      dtype='object')"
            ]
          },
          "metadata": {},
          "execution_count": 206
        }
      ]
    },
    {
      "cell_type": "code",
      "source": [
        "Revenue_Expenditure.dtypes"
      ],
      "metadata": {
        "colab": {
          "base_uri": "https://localhost:8080/"
        },
        "id": "OKWhTUIW5tqF",
        "outputId": "bcdc705c-4e35-4032-cab3-15dd9874fa4a"
      },
      "execution_count": 207,
      "outputs": [
        {
          "output_type": "execute_result",
          "data": {
            "text/plain": [
              "FISCAL YEAR                     int64\n",
              "Import Duty                     int64\n",
              "Excise Duty                     int64\n",
              "Income Tax                      int64\n",
              "VAT                             int64\n",
              "OTHER TAX INCOME               object\n",
              "TOTAL TAX                       int64\n",
              "NON-TAX  REVENUE                int64\n",
              "TOTAL REVENUE                   int64\n",
              "Programme Grants               object\n",
              "Projects Grants                 int64\n",
              "Total Grants                    int64\n",
              "Domestic Interest              object\n",
              "Foreign Interest                int64\n",
              "Wages & Salaries                int64\n",
              "Pensions                        int64\n",
              "Other                           int64\n",
              "TOTAL RECURRENT EXPENDITURE     int64\n",
              "County Transfer                object\n",
              "EXPENDITURE                    object\n",
              "TOTAL EXPENDITURE               int64\n",
              "CUM TOTAL EXPENDITURE           int64\n",
              "CUM TOTAL REVENUE               int64\n",
              "DEFICIT                         int64\n",
              "CUM DEFICIT                     int64\n",
              "Total_Duty                      int64\n",
              "dtype: object"
            ]
          },
          "metadata": {},
          "execution_count": 207
        }
      ]
    },
    {
      "cell_type": "code",
      "source": [
        "Revenues_Expenditures=Revenue_Expenditure[['FISCAL YEAR', 'Income Tax', 'VAT', 'TOTAL TAX', 'NON-TAX  REVENUE', 'TOTAL REVENUE','Projects Grants', 'Total Grants', 'Foreign Interest', 'Wages & Salaries',\n",
        "       'Pensions', 'Other', 'TOTAL RECURRENT EXPENDITURE', 'TOTAL EXPENDITURE', 'CUM TOTAL EXPENDITURE',\n",
        "       'CUM TOTAL REVENUE', 'DEFICIT', 'CUM DEFICIT', 'Total_Duty']]\n"
      ],
      "metadata": {
        "id": "M4g7x-m14Z28"
      },
      "execution_count": 209,
      "outputs": []
    },
    {
      "cell_type": "code",
      "source": [
        "Revenues_Expenditures.head()"
      ],
      "metadata": {
        "colab": {
          "base_uri": "https://localhost:8080/",
          "height": 305
        },
        "id": "HQ5-rLG46VqZ",
        "outputId": "cfb81c0a-0fc6-4107-bfcf-837569cbcfbf"
      },
      "execution_count": 210,
      "outputs": [
        {
          "output_type": "execute_result",
          "data": {
            "text/plain": [
              "   FISCAL YEAR  Income Tax    VAT  TOTAL TAX  NON-TAX  REVENUE  TOTAL REVENUE  \\\n",
              "0         1999       12054   9255      35335              5979          41314   \n",
              "1         1999       25545  19734      73198             13131          86329   \n",
              "2         2000       37156  30091     109836             20756         130592   \n",
              "3         2000       54402  40944     152444             25999         178443   \n",
              "4         2000        2905   2708       9998              1617          11615   \n",
              "\n",
              "   Projects Grants  Total Grants  Foreign Interest  Wages & Salaries  \\\n",
              "0             1197          1203              3068             16749   \n",
              "1             2211          2540              4597             33483   \n",
              "2             3319          3663              6039             50232   \n",
              "3             4247          4247              8635             65861   \n",
              "4              323           323               746              5805   \n",
              "\n",
              "   Pensions  Other  TOTAL RECURRENT EXPENDITURE  TOTAL EXPENDITURE  \\\n",
              "0      1387  12919                        37939              44478   \n",
              "1      2520  24135                        73670              86435   \n",
              "2      3732  39481                       115268             137761   \n",
              "3      5145  56142                       156535             175119   \n",
              "4       543   4225                        14058              15418   \n",
              "\n",
              "   CUM TOTAL EXPENDITURE  CUM TOTAL REVENUE  DEFICIT  CUM DEFICIT  Total_Duty  \n",
              "0                  44478              41314     3164         3164       14026  \n",
              "1                 130913             127643      106         3270       27919  \n",
              "2                 268674             258235     7169        10439       42589  \n",
              "3                 443793             436678    -3324         7115       57098  \n",
              "4                 459211             448293     3803        10918        4385  "
            ],
            "text/html": [
              "\n",
              "  <div id=\"df-08d0c664-36f6-4b8d-a3c5-7c6f8bdabbd1\">\n",
              "    <div class=\"colab-df-container\">\n",
              "      <div>\n",
              "<style scoped>\n",
              "    .dataframe tbody tr th:only-of-type {\n",
              "        vertical-align: middle;\n",
              "    }\n",
              "\n",
              "    .dataframe tbody tr th {\n",
              "        vertical-align: top;\n",
              "    }\n",
              "\n",
              "    .dataframe thead th {\n",
              "        text-align: right;\n",
              "    }\n",
              "</style>\n",
              "<table border=\"1\" class=\"dataframe\">\n",
              "  <thead>\n",
              "    <tr style=\"text-align: right;\">\n",
              "      <th></th>\n",
              "      <th>FISCAL YEAR</th>\n",
              "      <th>Income Tax</th>\n",
              "      <th>VAT</th>\n",
              "      <th>TOTAL TAX</th>\n",
              "      <th>NON-TAX  REVENUE</th>\n",
              "      <th>TOTAL REVENUE</th>\n",
              "      <th>Projects Grants</th>\n",
              "      <th>Total Grants</th>\n",
              "      <th>Foreign Interest</th>\n",
              "      <th>Wages &amp; Salaries</th>\n",
              "      <th>Pensions</th>\n",
              "      <th>Other</th>\n",
              "      <th>TOTAL RECURRENT EXPENDITURE</th>\n",
              "      <th>TOTAL EXPENDITURE</th>\n",
              "      <th>CUM TOTAL EXPENDITURE</th>\n",
              "      <th>CUM TOTAL REVENUE</th>\n",
              "      <th>DEFICIT</th>\n",
              "      <th>CUM DEFICIT</th>\n",
              "      <th>Total_Duty</th>\n",
              "    </tr>\n",
              "  </thead>\n",
              "  <tbody>\n",
              "    <tr>\n",
              "      <th>0</th>\n",
              "      <td>1999</td>\n",
              "      <td>12054</td>\n",
              "      <td>9255</td>\n",
              "      <td>35335</td>\n",
              "      <td>5979</td>\n",
              "      <td>41314</td>\n",
              "      <td>1197</td>\n",
              "      <td>1203</td>\n",
              "      <td>3068</td>\n",
              "      <td>16749</td>\n",
              "      <td>1387</td>\n",
              "      <td>12919</td>\n",
              "      <td>37939</td>\n",
              "      <td>44478</td>\n",
              "      <td>44478</td>\n",
              "      <td>41314</td>\n",
              "      <td>3164</td>\n",
              "      <td>3164</td>\n",
              "      <td>14026</td>\n",
              "    </tr>\n",
              "    <tr>\n",
              "      <th>1</th>\n",
              "      <td>1999</td>\n",
              "      <td>25545</td>\n",
              "      <td>19734</td>\n",
              "      <td>73198</td>\n",
              "      <td>13131</td>\n",
              "      <td>86329</td>\n",
              "      <td>2211</td>\n",
              "      <td>2540</td>\n",
              "      <td>4597</td>\n",
              "      <td>33483</td>\n",
              "      <td>2520</td>\n",
              "      <td>24135</td>\n",
              "      <td>73670</td>\n",
              "      <td>86435</td>\n",
              "      <td>130913</td>\n",
              "      <td>127643</td>\n",
              "      <td>106</td>\n",
              "      <td>3270</td>\n",
              "      <td>27919</td>\n",
              "    </tr>\n",
              "    <tr>\n",
              "      <th>2</th>\n",
              "      <td>2000</td>\n",
              "      <td>37156</td>\n",
              "      <td>30091</td>\n",
              "      <td>109836</td>\n",
              "      <td>20756</td>\n",
              "      <td>130592</td>\n",
              "      <td>3319</td>\n",
              "      <td>3663</td>\n",
              "      <td>6039</td>\n",
              "      <td>50232</td>\n",
              "      <td>3732</td>\n",
              "      <td>39481</td>\n",
              "      <td>115268</td>\n",
              "      <td>137761</td>\n",
              "      <td>268674</td>\n",
              "      <td>258235</td>\n",
              "      <td>7169</td>\n",
              "      <td>10439</td>\n",
              "      <td>42589</td>\n",
              "    </tr>\n",
              "    <tr>\n",
              "      <th>3</th>\n",
              "      <td>2000</td>\n",
              "      <td>54402</td>\n",
              "      <td>40944</td>\n",
              "      <td>152444</td>\n",
              "      <td>25999</td>\n",
              "      <td>178443</td>\n",
              "      <td>4247</td>\n",
              "      <td>4247</td>\n",
              "      <td>8635</td>\n",
              "      <td>65861</td>\n",
              "      <td>5145</td>\n",
              "      <td>56142</td>\n",
              "      <td>156535</td>\n",
              "      <td>175119</td>\n",
              "      <td>443793</td>\n",
              "      <td>436678</td>\n",
              "      <td>-3324</td>\n",
              "      <td>7115</td>\n",
              "      <td>57098</td>\n",
              "    </tr>\n",
              "    <tr>\n",
              "      <th>4</th>\n",
              "      <td>2000</td>\n",
              "      <td>2905</td>\n",
              "      <td>2708</td>\n",
              "      <td>9998</td>\n",
              "      <td>1617</td>\n",
              "      <td>11615</td>\n",
              "      <td>323</td>\n",
              "      <td>323</td>\n",
              "      <td>746</td>\n",
              "      <td>5805</td>\n",
              "      <td>543</td>\n",
              "      <td>4225</td>\n",
              "      <td>14058</td>\n",
              "      <td>15418</td>\n",
              "      <td>459211</td>\n",
              "      <td>448293</td>\n",
              "      <td>3803</td>\n",
              "      <td>10918</td>\n",
              "      <td>4385</td>\n",
              "    </tr>\n",
              "  </tbody>\n",
              "</table>\n",
              "</div>\n",
              "      <button class=\"colab-df-convert\" onclick=\"convertToInteractive('df-08d0c664-36f6-4b8d-a3c5-7c6f8bdabbd1')\"\n",
              "              title=\"Convert this dataframe to an interactive table.\"\n",
              "              style=\"display:none;\">\n",
              "        \n",
              "  <svg xmlns=\"http://www.w3.org/2000/svg\" height=\"24px\"viewBox=\"0 0 24 24\"\n",
              "       width=\"24px\">\n",
              "    <path d=\"M0 0h24v24H0V0z\" fill=\"none\"/>\n",
              "    <path d=\"M18.56 5.44l.94 2.06.94-2.06 2.06-.94-2.06-.94-.94-2.06-.94 2.06-2.06.94zm-11 1L8.5 8.5l.94-2.06 2.06-.94-2.06-.94L8.5 2.5l-.94 2.06-2.06.94zm10 10l.94 2.06.94-2.06 2.06-.94-2.06-.94-.94-2.06-.94 2.06-2.06.94z\"/><path d=\"M17.41 7.96l-1.37-1.37c-.4-.4-.92-.59-1.43-.59-.52 0-1.04.2-1.43.59L10.3 9.45l-7.72 7.72c-.78.78-.78 2.05 0 2.83L4 21.41c.39.39.9.59 1.41.59.51 0 1.02-.2 1.41-.59l7.78-7.78 2.81-2.81c.8-.78.8-2.07 0-2.86zM5.41 20L4 18.59l7.72-7.72 1.47 1.35L5.41 20z\"/>\n",
              "  </svg>\n",
              "      </button>\n",
              "      \n",
              "  <style>\n",
              "    .colab-df-container {\n",
              "      display:flex;\n",
              "      flex-wrap:wrap;\n",
              "      gap: 12px;\n",
              "    }\n",
              "\n",
              "    .colab-df-convert {\n",
              "      background-color: #E8F0FE;\n",
              "      border: none;\n",
              "      border-radius: 50%;\n",
              "      cursor: pointer;\n",
              "      display: none;\n",
              "      fill: #1967D2;\n",
              "      height: 32px;\n",
              "      padding: 0 0 0 0;\n",
              "      width: 32px;\n",
              "    }\n",
              "\n",
              "    .colab-df-convert:hover {\n",
              "      background-color: #E2EBFA;\n",
              "      box-shadow: 0px 1px 2px rgba(60, 64, 67, 0.3), 0px 1px 3px 1px rgba(60, 64, 67, 0.15);\n",
              "      fill: #174EA6;\n",
              "    }\n",
              "\n",
              "    [theme=dark] .colab-df-convert {\n",
              "      background-color: #3B4455;\n",
              "      fill: #D2E3FC;\n",
              "    }\n",
              "\n",
              "    [theme=dark] .colab-df-convert:hover {\n",
              "      background-color: #434B5C;\n",
              "      box-shadow: 0px 1px 3px 1px rgba(0, 0, 0, 0.15);\n",
              "      filter: drop-shadow(0px 1px 2px rgba(0, 0, 0, 0.3));\n",
              "      fill: #FFFFFF;\n",
              "    }\n",
              "  </style>\n",
              "\n",
              "      <script>\n",
              "        const buttonEl =\n",
              "          document.querySelector('#df-08d0c664-36f6-4b8d-a3c5-7c6f8bdabbd1 button.colab-df-convert');\n",
              "        buttonEl.style.display =\n",
              "          google.colab.kernel.accessAllowed ? 'block' : 'none';\n",
              "\n",
              "        async function convertToInteractive(key) {\n",
              "          const element = document.querySelector('#df-08d0c664-36f6-4b8d-a3c5-7c6f8bdabbd1');\n",
              "          const dataTable =\n",
              "            await google.colab.kernel.invokeFunction('convertToInteractive',\n",
              "                                                     [key], {});\n",
              "          if (!dataTable) return;\n",
              "\n",
              "          const docLinkHtml = 'Like what you see? Visit the ' +\n",
              "            '<a target=\"_blank\" href=https://colab.research.google.com/notebooks/data_table.ipynb>data table notebook</a>'\n",
              "            + ' to learn more about interactive tables.';\n",
              "          element.innerHTML = '';\n",
              "          dataTable['output_type'] = 'display_data';\n",
              "          await google.colab.output.renderOutput(dataTable, element);\n",
              "          const docLink = document.createElement('div');\n",
              "          docLink.innerHTML = docLinkHtml;\n",
              "          element.appendChild(docLink);\n",
              "        }\n",
              "      </script>\n",
              "    </div>\n",
              "  </div>\n",
              "  "
            ]
          },
          "metadata": {},
          "execution_count": 210
        }
      ]
    },
    {
      "cell_type": "code",
      "source": [
        "R_E=Revenues_Expenditures.copy()"
      ],
      "metadata": {
        "id": "xCypYQlx6vew"
      },
      "execution_count": 212,
      "outputs": []
    },
    {
      "cell_type": "code",
      "source": [
        "scaler=StandardScaler()\n",
        "R_E_N=scaler.fit_transform(R_E)\n",
        "R_E_N"
      ],
      "metadata": {
        "colab": {
          "base_uri": "https://localhost:8080/"
        },
        "id": "CC55OvFp6ery",
        "outputId": "d0162c9e-effd-40c9-e321-4f1333bd78ce"
      },
      "execution_count": 216,
      "outputs": [
        {
          "output_type": "execute_result",
          "data": {
            "text/plain": [
              "array([[-1.8281275 , -0.90231597, -0.96269679, ..., -0.7199783 ,\n",
              "        -0.87958054, -0.94049099],\n",
              "       [-1.8281275 , -0.82783761, -0.86094443, ..., -0.73595044,\n",
              "        -0.87957065, -0.7560616 ],\n",
              "       [-1.67464665, -0.76373796, -0.7603767 , ..., -0.69905991,\n",
              "        -0.87890192, -0.56131755],\n",
              "       ...,\n",
              "       [ 1.70193213,  3.87108431,  4.02677122, ...,  3.56404489,\n",
              "         2.66631344,  3.79002382],\n",
              "       [ 1.70193213, -0.64902549, -0.66576129, ..., -0.67542553,\n",
              "         2.66740427, -0.76407969],\n",
              "       [ 1.70193213, -0.3314863 , -0.19334448, ..., -0.50188909,\n",
              "         2.67159438, -0.28223752]])"
            ]
          },
          "metadata": {},
          "execution_count": 216
        }
      ]
    },
    {
      "cell_type": "markdown",
      "source": [
        "# Income Tax vs VAT"
      ],
      "metadata": {
        "id": "DUbay9VU9Slw"
      }
    },
    {
      "cell_type": "code",
      "source": [
        "%matplotlib inline\n",
        "plt.figure(figsize=(16,8))\n",
        "plt.plot(Revenues_Expenditures['Income Tax'],label='Income Tax')\n",
        "plt.plot(Revenues_Expenditures['VAT'],label='VAT')      \n",
        "plt.grid()\n",
        "plt.legend()\n",
        "plt.show()"
      ],
      "metadata": {
        "colab": {
          "base_uri": "https://localhost:8080/",
          "height": 483
        },
        "id": "NPY-RPno7lPQ",
        "outputId": "484c9fdf-9df5-4f1d-af3f-3273f65132ff"
      },
      "execution_count": 223,
      "outputs": [
        {
          "output_type": "display_data",
          "data": {
            "text/plain": [
              "<Figure size 1152x576 with 1 Axes>"
            ],
            "image/png": "[encoded data removed]"
          },
          "metadata": {
            "needs_background": "light"
          }
        }
      ]
    },
    {
      "cell_type": "markdown",
      "source": [
        "# Total Tax vs Total Revenue"
      ],
      "metadata": {
        "id": "ovTA2tb29ZOY"
      }
    },
    {
      "cell_type": "code",
      "source": [
        "%matplotlib inline\n",
        "plt.figure(figsize=(16,8))\n",
        "plt.plot(Revenues_Expenditures['TOTAL TAX'],label='Total Tax')\n",
        "plt.plot(Revenues_Expenditures['TOTAL REVENUE'],label='Total Revenue')      \n",
        "plt.grid()\n",
        "plt.legend()\n",
        "plt.show()"
      ],
      "metadata": {
        "colab": {
          "base_uri": "https://localhost:8080/",
          "height": 494
        },
        "id": "53bRLzF382Tu",
        "outputId": "49d7bae8-17cb-45bf-f6a4-0f966cfa2186"
      },
      "execution_count": 225,
      "outputs": [
        {
          "output_type": "display_data",
          "data": {
            "text/plain": [
              "<Figure size 1152x576 with 1 Axes>"
            ],
            "image/png": "[encoded data removed]"
          },
          "metadata": {
            "needs_background": "light"
          }
        }
      ]
    },
    {
      "cell_type": "markdown",
      "source": [
        "# Contribution of Income Tax to Total Revenue"
      ],
      "metadata": {
        "id": "VTmhSRJyBTyj"
      }
    },
    {
      "cell_type": "code",
      "source": [
        "Revenues_Expenditures['Income Tax'].sum()/Revenues_Expenditures['TOTAL REVENUE'].sum()*100"
      ],
      "metadata": {
        "colab": {
          "base_uri": "https://localhost:8080/"
        },
        "id": "j8x2tKbG-YJo",
        "outputId": "d5ca55ce-e4fd-452e-ba58-3491f178d4b7"
      },
      "execution_count": 242,
      "outputs": [
        {
          "output_type": "execute_result",
          "data": {
            "text/plain": [
              "40.47892742088486"
            ]
          },
          "metadata": {},
          "execution_count": 242
        }
      ]
    },
    {
      "cell_type": "code",
      "source": [
        "Revenues_Expenditures['NON-TAX  REVENUE'].sum()/Revenues_Expenditures['TOTAL REVENUE'].sum()*100"
      ],
      "metadata": {
        "colab": {
          "base_uri": "https://localhost:8080/"
        },
        "id": "DX1_UWWnBOoX",
        "outputId": "f15e4228-d0ab-4457-eb02-e45acbcce12e"
      },
      "execution_count": 244,
      "outputs": [
        {
          "output_type": "execute_result",
          "data": {
            "text/plain": [
              "13.005575672742125"
            ]
          },
          "metadata": {},
          "execution_count": 244
        }
      ]
    },
    {
      "cell_type": "code",
      "source": [
        "Revenues_Expenditures['VAT'].sum()/Revenues_Expenditures['TOTAL REVENUE'].sum()*100"
      ],
      "metadata": {
        "colab": {
          "base_uri": "https://localhost:8080/"
        },
        "id": "iSen6aElBmaB",
        "outputId": "f0946a12-bb76-4a56-920e-5f43c545e3e4"
      },
      "execution_count": 245,
      "outputs": [
        {
          "output_type": "execute_result",
          "data": {
            "text/plain": [
              "25.002144831219873"
            ]
          },
          "metadata": {},
          "execution_count": 245
        }
      ]
    },
    {
      "cell_type": "code",
      "source": [
        "Revenues_Expenditures['Total_Duty'].sum()/Revenues_Expenditures['TOTAL REVENUE'].sum()*100"
      ],
      "metadata": {
        "colab": {
          "base_uri": "https://localhost:8080/"
        },
        "id": "ZVzVC2qMDeu-",
        "outputId": "8efbd9ce-cb3d-436d-927d-f3734cb72a1b"
      },
      "execution_count": 256,
      "outputs": [
        {
          "output_type": "execute_result",
          "data": {
            "text/plain": [
              "19.575921314460892"
            ]
          },
          "metadata": {},
          "execution_count": 256
        }
      ]
    },
    {
      "cell_type": "code",
      "source": [
        "Revenues_Expenditures['Projects Grants'].sum()/Revenues_Expenditures['TOTAL REVENUE'].sum()*100"
      ],
      "metadata": {
        "colab": {
          "base_uri": "https://localhost:8080/"
        },
        "id": "ey_l-LQLB7d-",
        "outputId": "485ea28f-996b-4043-e536-b138dce1eea3"
      },
      "execution_count": 247,
      "outputs": [
        {
          "output_type": "execute_result",
          "data": {
            "text/plain": [
              "2.165482935391362"
            ]
          },
          "metadata": {},
          "execution_count": 247
        }
      ]
    },
    {
      "cell_type": "code",
      "source": [
        "Revenues_Expenditures['Total Grants'].sum()/Revenues_Expenditures['TOTAL REVENUE'].sum()*100"
      ],
      "metadata": {
        "colab": {
          "base_uri": "https://localhost:8080/"
        },
        "id": "f_FmQlssCGry",
        "outputId": "2a643531-2597-4f5f-ca1c-a3588f0f621b"
      },
      "execution_count": 248,
      "outputs": [
        {
          "output_type": "execute_result",
          "data": {
            "text/plain": [
              "2.2778991713284515"
            ]
          },
          "metadata": {},
          "execution_count": 248
        }
      ]
    },
    {
      "cell_type": "code",
      "source": [
        "Revenues_Expenditures['Foreign Interest'].sum()/Revenues_Expenditures['TOTAL EXPENDITURE'].sum()*100"
      ],
      "metadata": {
        "colab": {
          "base_uri": "https://localhost:8080/"
        },
        "id": "XWjpHHbvCXtc",
        "outputId": "ffcd314b-dd0b-4b2f-a855-7c870f5196bc"
      },
      "execution_count": 249,
      "outputs": [
        {
          "output_type": "execute_result",
          "data": {
            "text/plain": [
              "3.136976767712722"
            ]
          },
          "metadata": {},
          "execution_count": 249
        }
      ]
    },
    {
      "cell_type": "code",
      "source": [
        "Revenues_Expenditures[ 'Wages & Salaries'].sum()/Revenues_Expenditures['TOTAL EXPENDITURE'].sum()*100\n",
        "       "
      ],
      "metadata": {
        "colab": {
          "base_uri": "https://localhost:8080/"
        },
        "id": "lFqpXzr0CkVx",
        "outputId": "960b4349-9fa2-483e-89df-e6bce2d433c9"
      },
      "execution_count": 250,
      "outputs": [
        {
          "output_type": "execute_result",
          "data": {
            "text/plain": [
              "22.436211153162013"
            ]
          },
          "metadata": {},
          "execution_count": 250
        }
      ]
    },
    {
      "cell_type": "code",
      "source": [
        "Revenues_Expenditures['Pensions'].sum()/Revenues_Expenditures['TOTAL EXPENDITURE'].sum()*100\n"
      ],
      "metadata": {
        "colab": {
          "base_uri": "https://localhost:8080/"
        },
        "id": "6tW-Z2I8C1Hg",
        "outputId": "e402503b-0757-4667-9171-58fa27b25821"
      },
      "execution_count": 253,
      "outputs": [
        {
          "output_type": "execute_result",
          "data": {
            "text/plain": [
              "3.500933784921307"
            ]
          },
          "metadata": {},
          "execution_count": 253
        }
      ]
    },
    {
      "cell_type": "code",
      "source": [
        "Revenues_Expenditures['Other'].sum()/Revenues_Expenditures['TOTAL EXPENDITURE'].sum()*100"
      ],
      "metadata": {
        "colab": {
          "base_uri": "https://localhost:8080/"
        },
        "id": "olQZ0MQiC8Yy",
        "outputId": "4c66fed2-baf2-4d5e-fc9a-e324a12d3590"
      },
      "execution_count": 252,
      "outputs": [
        {
          "output_type": "execute_result",
          "data": {
            "text/plain": [
              "28.16225344067974"
            ]
          },
          "metadata": {},
          "execution_count": 252
        }
      ]
    },
    {
      "cell_type": "code",
      "source": [
        "Revenues_Expenditures['TOTAL RECURRENT EXPENDITURE'].sum()/Revenues_Expenditures['TOTAL EXPENDITURE'].sum()*100 "
      ],
      "metadata": {
        "colab": {
          "base_uri": "https://localhost:8080/"
        },
        "id": "7qoRAS8OCwyt",
        "outputId": "d0307e66-1492-48b3-cfe5-4cd3b97ff302"
      },
      "execution_count": 255,
      "outputs": [
        {
          "output_type": "execute_result",
          "data": {
            "text/plain": [
              "68.93828961925186"
            ]
          },
          "metadata": {},
          "execution_count": 255
        }
      ]
    },
    {
      "cell_type": "code",
      "source": [
        "%matplotlib inline\n",
        "plt.figure(figsize=(16,8))\n",
        "plt.plot(Revenues_Expenditures['DEFICIT'], label = 'Deficit')\n",
        "plt.xlabel('Date_Column')\n",
        "plt.ylabel('Deficit')\n",
        "plt.title('Country Deficit')\n",
        "plt.grid()\n",
        "plt.legend()\n",
        "plt.show()"
      ],
      "metadata": {
        "colab": {
          "base_uri": "https://localhost:8080/",
          "height": 514
        },
        "id": "WcsRqHWnDrEY",
        "outputId": "90d97793-56c1-4249-84db-305f8638ac51"
      },
      "execution_count": 259,
      "outputs": [
        {
          "output_type": "display_data",
          "data": {
            "text/plain": [
              "<Figure size 1152x576 with 1 Axes>"
            ],
            "image/png": "[encoded data removed]"
          },
          "metadata": {
            "needs_background": "light"
          }
        }
      ]
    },
    {
      "cell_type": "markdown",
      "source": [
        "## Debt Data"
      ],
      "metadata": {
        "id": "b1zJZKzWGc6W"
      }
    },
    {
      "cell_type": "code",
      "source": [
        "Debt.head()"
      ],
      "metadata": {
        "colab": {
          "base_uri": "https://localhost:8080/",
          "height": 206
        },
        "id": "5_CMCVpbE7za",
        "outputId": "3b98c054-e01d-46d9-fa65-651977541430"
      },
      "execution_count": 278,
      "outputs": [
        {
          "output_type": "execute_result",
          "data": {
            "text/plain": [
              "   Year  Month Domestic Debt External Debt       Total\n",
              "0  1999      9    183,417.00    320,137.00  503,554.00\n",
              "1  1999     12    190,300.00    311,953.00  502,253.00\n",
              "2  2000      3    201,463.22    396,800.00  598,263.22\n",
              "3  2000      6    206,127.00    395,694.00  601,821.00\n",
              "4  2000      7    202,362.00    394,667.37  597,029.37"
            ],
            "text/html": [
              "\n",
              "  <div id=\"df-819ce98d-5896-41c8-a017-85c89019de2d\">\n",
              "    <div class=\"colab-df-container\">\n",
              "      <div>\n",
              "<style scoped>\n",
              "    .dataframe tbody tr th:only-of-type {\n",
              "        vertical-align: middle;\n",
              "    }\n",
              "\n",
              "    .dataframe tbody tr th {\n",
              "        vertical-align: top;\n",
              "    }\n",
              "\n",
              "    .dataframe thead th {\n",
              "        text-align: right;\n",
              "    }\n",
              "</style>\n",
              "<table border=\"1\" class=\"dataframe\">\n",
              "  <thead>\n",
              "    <tr style=\"text-align: right;\">\n",
              "      <th></th>\n",
              "      <th>Year</th>\n",
              "      <th>Month</th>\n",
              "      <th>Domestic Debt</th>\n",
              "      <th>External Debt</th>\n",
              "      <th>Total</th>\n",
              "    </tr>\n",
              "  </thead>\n",
              "  <tbody>\n",
              "    <tr>\n",
              "      <th>0</th>\n",
              "      <td>1999</td>\n",
              "      <td>9</td>\n",
              "      <td>183,417.00</td>\n",
              "      <td>320,137.00</td>\n",
              "      <td>503,554.00</td>\n",
              "    </tr>\n",
              "    <tr>\n",
              "      <th>1</th>\n",
              "      <td>1999</td>\n",
              "      <td>12</td>\n",
              "      <td>190,300.00</td>\n",
              "      <td>311,953.00</td>\n",
              "      <td>502,253.00</td>\n",
              "    </tr>\n",
              "    <tr>\n",
              "      <th>2</th>\n",
              "      <td>2000</td>\n",
              "      <td>3</td>\n",
              "      <td>201,463.22</td>\n",
              "      <td>396,800.00</td>\n",
              "      <td>598,263.22</td>\n",
              "    </tr>\n",
              "    <tr>\n",
              "      <th>3</th>\n",
              "      <td>2000</td>\n",
              "      <td>6</td>\n",
              "      <td>206,127.00</td>\n",
              "      <td>395,694.00</td>\n",
              "      <td>601,821.00</td>\n",
              "    </tr>\n",
              "    <tr>\n",
              "      <th>4</th>\n",
              "      <td>2000</td>\n",
              "      <td>7</td>\n",
              "      <td>202,362.00</td>\n",
              "      <td>394,667.37</td>\n",
              "      <td>597,029.37</td>\n",
              "    </tr>\n",
              "  </tbody>\n",
              "</table>\n",
              "</div>\n",
              "      <button class=\"colab-df-convert\" onclick=\"convertToInteractive('df-819ce98d-5896-41c8-a017-85c89019de2d')\"\n",
              "              title=\"Convert this dataframe to an interactive table.\"\n",
              "              style=\"display:none;\">\n",
              "        \n",
              "  <svg xmlns=\"http://www.w3.org/2000/svg\" height=\"24px\"viewBox=\"0 0 24 24\"\n",
              "       width=\"24px\">\n",
              "    <path d=\"M0 0h24v24H0V0z\" fill=\"none\"/>\n",
              "    <path d=\"M18.56 5.44l.94 2.06.94-2.06 2.06-.94-2.06-.94-.94-2.06-.94 2.06-2.06.94zm-11 1L8.5 8.5l.94-2.06 2.06-.94-2.06-.94L8.5 2.5l-.94 2.06-2.06.94zm10 10l.94 2.06.94-2.06 2.06-.94-2.06-.94-.94-2.06-.94 2.06-2.06.94z\"/><path d=\"M17.41 7.96l-1.37-1.37c-.4-.4-.92-.59-1.43-.59-.52 0-1.04.2-1.43.59L10.3 9.45l-7.72 7.72c-.78.78-.78 2.05 0 2.83L4 21.41c.39.39.9.59 1.41.59.51 0 1.02-.2 1.41-.59l7.78-7.78 2.81-2.81c.8-.78.8-2.07 0-2.86zM5.41 20L4 18.59l7.72-7.72 1.47 1.35L5.41 20z\"/>\n",
              "  </svg>\n",
              "      </button>\n",
              "      \n",
              "  <style>\n",
              "    .colab-df-container {\n",
              "      display:flex;\n",
              "      flex-wrap:wrap;\n",
              "      gap: 12px;\n",
              "    }\n",
              "\n",
              "    .colab-df-convert {\n",
              "      background-color: #E8F0FE;\n",
              "      border: none;\n",
              "      border-radius: 50%;\n",
              "      cursor: pointer;\n",
              "      display: none;\n",
              "      fill: #1967D2;\n",
              "      height: 32px;\n",
              "      padding: 0 0 0 0;\n",
              "      width: 32px;\n",
              "    }\n",
              "\n",
              "    .colab-df-convert:hover {\n",
              "      background-color: #E2EBFA;\n",
              "      box-shadow: 0px 1px 2px rgba(60, 64, 67, 0.3), 0px 1px 3px 1px rgba(60, 64, 67, 0.15);\n",
              "      fill: #174EA6;\n",
              "    }\n",
              "\n",
              "    [theme=dark] .colab-df-convert {\n",
              "      background-color: #3B4455;\n",
              "      fill: #D2E3FC;\n",
              "    }\n",
              "\n",
              "    [theme=dark] .colab-df-convert:hover {\n",
              "      background-color: #434B5C;\n",
              "      box-shadow: 0px 1px 3px 1px rgba(0, 0, 0, 0.15);\n",
              "      filter: drop-shadow(0px 1px 2px rgba(0, 0, 0, 0.3));\n",
              "      fill: #FFFFFF;\n",
              "    }\n",
              "  </style>\n",
              "\n",
              "      <script>\n",
              "        const buttonEl =\n",
              "          document.querySelector('#df-819ce98d-5896-41c8-a017-85c89019de2d button.colab-df-convert');\n",
              "        buttonEl.style.display =\n",
              "          google.colab.kernel.accessAllowed ? 'block' : 'none';\n",
              "\n",
              "        async function convertToInteractive(key) {\n",
              "          const element = document.querySelector('#df-819ce98d-5896-41c8-a017-85c89019de2d');\n",
              "          const dataTable =\n",
              "            await google.colab.kernel.invokeFunction('convertToInteractive',\n",
              "                                                     [key], {});\n",
              "          if (!dataTable) return;\n",
              "\n",
              "          const docLinkHtml = 'Like what you see? Visit the ' +\n",
              "            '<a target=\"_blank\" href=https://colab.research.google.com/notebooks/data_table.ipynb>data table notebook</a>'\n",
              "            + ' to learn more about interactive tables.';\n",
              "          element.innerHTML = '';\n",
              "          dataTable['output_type'] = 'display_data';\n",
              "          await google.colab.output.renderOutput(dataTable, element);\n",
              "          const docLink = document.createElement('div');\n",
              "          docLink.innerHTML = docLinkHtml;\n",
              "          element.appendChild(docLink);\n",
              "        }\n",
              "      </script>\n",
              "    </div>\n",
              "  </div>\n",
              "  "
            ]
          },
          "metadata": {},
          "execution_count": 278
        }
      ]
    },
    {
      "cell_type": "code",
      "source": [
        "Debt.shape"
      ],
      "metadata": {
        "colab": {
          "base_uri": "https://localhost:8080/"
        },
        "id": "g9yqiUToFGEs",
        "outputId": "8769462f-534f-45bd-fa75-b28ff76301a5"
      },
      "execution_count": 279,
      "outputs": [
        {
          "output_type": "execute_result",
          "data": {
            "text/plain": [
              "(271, 5)"
            ]
          },
          "metadata": {},
          "execution_count": 279
        }
      ]
    },
    {
      "cell_type": "code",
      "source": [
        "Debt.dtypes"
      ],
      "metadata": {
        "colab": {
          "base_uri": "https://localhost:8080/"
        },
        "id": "QnlJlUKuFCzi",
        "outputId": "6fe3aa7f-69ce-4c9b-bd2d-7d483f0981f9"
      },
      "execution_count": 280,
      "outputs": [
        {
          "output_type": "execute_result",
          "data": {
            "text/plain": [
              "Year              int64\n",
              "Month             int64\n",
              "Domestic Debt    object\n",
              "External Debt    object\n",
              "Total            object\n",
              "dtype: object"
            ]
          },
          "metadata": {},
          "execution_count": 280
        }
      ]
    },
    {
      "cell_type": "code",
      "source": [
        "Debt.isnull().mean()*100"
      ],
      "metadata": {
        "colab": {
          "base_uri": "https://localhost:8080/"
        },
        "id": "I6mIb4PRGTLK",
        "outputId": "bc44e350-b57e-4633-f4b2-500fddb6d5ad"
      },
      "execution_count": 281,
      "outputs": [
        {
          "output_type": "execute_result",
          "data": {
            "text/plain": [
              "Year             0.0\n",
              "Month            0.0\n",
              "Domestic Debt    0.0\n",
              "External Debt    0.0\n",
              "Total            0.0\n",
              "dtype: float64"
            ]
          },
          "metadata": {},
          "execution_count": 281
        }
      ]
    },
    {
      "cell_type": "code",
      "source": [
        "Debt.rename(columns={'PUBLIC DEBT':'Year',\"Unnamed: 1\":'Month','Unnamed: 2':'Domestic Debt','Unnamed: 3':'External Debt',\"Unnamed: 4\":\"Total\"}, inplace=True)\n",
        "Debt.fillna(0)\n",
        "Debt=Debt.drop('Month', axis=1)"
      ],
      "metadata": {
        "id": "S074OK2fFn8E"
      },
      "execution_count": 350,
      "outputs": []
    },
    {
      "cell_type": "code",
      "source": [
        "Debt.dtypes"
      ],
      "metadata": {
        "colab": {
          "base_uri": "https://localhost:8080/"
        },
        "id": "lW56DvrdFxfG",
        "outputId": "9cc63419-6448-4bd0-d258-39f7aeeef8cd"
      },
      "execution_count": 351,
      "outputs": [
        {
          "output_type": "execute_result",
          "data": {
            "text/plain": [
              "Year             int64\n",
              "Domestic Debt    int64\n",
              "External Debt    int64\n",
              "Total            int64\n",
              "dtype: object"
            ]
          },
          "metadata": {},
          "execution_count": 351
        }
      ]
    },
    {
      "cell_type": "code",
      "source": [
        "Debt.columns"
      ],
      "metadata": {
        "colab": {
          "base_uri": "https://localhost:8080/"
        },
        "id": "lGvxV99wHg-G",
        "outputId": "606beda4-2c2b-4e37-e10c-db5e0c6fee55"
      },
      "execution_count": 352,
      "outputs": [
        {
          "output_type": "execute_result",
          "data": {
            "text/plain": [
              "Index(['Year', 'Domestic Debt', 'External Debt', 'Total'], dtype='object')"
            ]
          },
          "metadata": {},
          "execution_count": 352
        }
      ]
    },
    {
      "cell_type": "code",
      "source": [
        "Debt.dtypes"
      ],
      "metadata": {
        "colab": {
          "base_uri": "https://localhost:8080/"
        },
        "id": "1-5QwOjJKRYE",
        "outputId": "b035831b-eb52-4df9-dc8b-77e3da46f035"
      },
      "execution_count": 353,
      "outputs": [
        {
          "output_type": "execute_result",
          "data": {
            "text/plain": [
              "Year             int64\n",
              "Domestic Debt    int64\n",
              "External Debt    int64\n",
              "Total            int64\n",
              "dtype: object"
            ]
          },
          "metadata": {},
          "execution_count": 353
        }
      ]
    },
    {
      "cell_type": "code",
      "source": [
        "Debt['Total']= Debt['Total'].str.replace(',','').astype(float).astype(int)"
      ],
      "metadata": {
        "id": "350KZvwRIrQ7"
      },
      "execution_count": 315,
      "outputs": []
    },
    {
      "cell_type": "code",
      "source": [
        "Debt['Domestic Debt']= Debt['Domestic Debt'].str.replace(',','').astype(float).astype(int)"
      ],
      "metadata": {
        "id": "f6rbbfLjK1ff"
      },
      "execution_count": 316,
      "outputs": []
    },
    {
      "cell_type": "code",
      "source": [
        "Debt['External Debt']= Debt['External Debt'].astype(float).astype(int)"
      ],
      "metadata": {
        "id": "U9wKlzWfLEfV"
      },
      "execution_count": 320,
      "outputs": []
    },
    {
      "cell_type": "code",
      "source": [
        "Debt.dtypes"
      ],
      "metadata": {
        "colab": {
          "base_uri": "https://localhost:8080/"
        },
        "id": "N5LAB_ioLbFs",
        "outputId": "4838444d-ac14-448f-d443-e727e2758c25"
      },
      "execution_count": 321,
      "outputs": [
        {
          "output_type": "execute_result",
          "data": {
            "text/plain": [
              "Year             int64\n",
              "Month            int64\n",
              "Domestic Debt    int64\n",
              "External Debt    int64\n",
              "Total            int64\n",
              "dtype: object"
            ]
          },
          "metadata": {},
          "execution_count": 321
        }
      ]
    },
    {
      "cell_type": "code",
      "source": [
        "Deficit=Revenues_Expenditures['DEFICIT'].sum()"
      ],
      "metadata": {
        "id": "nYXXqn4oIFep"
      },
      "execution_count": 326,
      "outputs": []
    },
    {
      "cell_type": "code",
      "source": [
        "Total_Debt=Debt['Total'].sum()"
      ],
      "metadata": {
        "id": "w6_zJ5RULi5c"
      },
      "execution_count": 327,
      "outputs": []
    },
    {
      "cell_type": "code",
      "source": [
        "%matplotlib inline\n",
        "plt.figure(figsize=(16,8))\n",
        "plt.plot(Revenues_Expenditures['DEFICIT'], label = 'Deficit')\n",
        "Debt['Total'].plot(label=\"Total Debt\")\n",
        "Debt['Total'].plot(label=\"Total Debt\")\n",
        "plt.title('Country Deficit vs Total Debt')\n",
        "plt.grid()\n",
        "plt.legend()\n",
        "plt.show()\n"
      ],
      "metadata": {
        "colab": {
          "base_uri": "https://localhost:8080/",
          "height": 499
        },
        "id": "jHgVlkahLuUn",
        "outputId": "252f4e51-400d-450f-ac8c-1dc3c36ff518"
      },
      "execution_count": 354,
      "outputs": [
        {
          "output_type": "display_data",
          "data": {
            "text/plain": [
              "<Figure size 1152x576 with 1 Axes>"
            ],
            "image/png": "[encoded data removed]"
          },
          "metadata": {
            "needs_background": "light"
          }
        }
      ]
    },
    {
      "cell_type": "markdown",
      "source": [
        "# Kibaki Regime Data"
      ],
      "metadata": {
        "id": "9LaNeh_eRhna"
      }
    },
    {
      "cell_type": "code",
      "source": [
        "#Kibaki Tenure\n",
        "#Kibaki's Expenditure\n",
        "#Kibaki Expenditures and Revenues\n",
        "#Kibaki's Deficit\n",
        "Kibaki_Regime= (Revenues_Expenditures['FISCAL YEAR']>= 2003) & (Revenues_Expenditures['FISCAL YEAR'] <= 2012)\n",
        "Kibaki_Rev= pd.DataFrame(Revenues_Expenditures['TOTAL REVENUE'].loc[Kibaki_Regime])\n",
        "Kibaki_Exp=pd.DataFrame(Revenues_Expenditures['TOTAL EXPENDITURE'].loc[Kibaki_Regime])\n",
        "Kibaki_Deficit=pd.DataFrame(Revenues_Expenditures.DEFICIT.loc[Kibaki_Regime])\n",
        "Kibakis=pd.DataFrame(Revenues_Expenditures['FISCAL YEAR'][Kibaki_Regime])\n",
        "#Kibaki's Debt\n",
        "Kibakis_Regime= (Debt['Year']>= 2003) & (Debt['Year'] <= 2012)\n",
        "Kibakis_Debt=pd.DataFrame(Debt['Total'].loc[Kibakis_Regime])\n"
      ],
      "metadata": {
        "id": "X5X3CEbcM0h-"
      },
      "execution_count": 406,
      "outputs": []
    },
    {
      "cell_type": "code",
      "source": [
        "Kibaki=pd.concat([Kibakis,Kibakis_Debt,Kibaki_Deficit,Kibaki_Exp,Kibaki_Rev],axis=1)"
      ],
      "metadata": {
        "id": "N6bh-QF9fs82"
      },
      "execution_count": 407,
      "outputs": []
    },
    {
      "cell_type": "code",
      "source": [
        "Kibaki.head()"
      ],
      "metadata": {
        "colab": {
          "base_uri": "https://localhost:8080/",
          "height": 206
        },
        "id": "TkFx4ootgXNv",
        "outputId": "dae5735a-bfbc-449a-a7b0-75e52be8f63f"
      },
      "execution_count": 414,
      "outputs": [
        {
          "output_type": "execute_result",
          "data": {
            "text/plain": [
              "    FISCAL YEAR   Total  DEFICIT  TOTAL EXPENDITURE  TOTAL REVENUE\n",
              "34         2003  633037    29385             143691         114306\n",
              "35         2003  631662    30735             166298         135563\n",
              "36         2003  635620    31036             182121         151085\n",
              "37         2003  639688    34135             204334         170199\n",
              "38         2003  642660    43677             231008         187331"
            ],
            "text/html": [
              "\n",
              "  <div id=\"df-261a85f3-f18d-421b-abe8-239eeed22414\">\n",
              "    <div class=\"colab-df-container\">\n",
              "      <div>\n",
              "<style scoped>\n",
              "    .dataframe tbody tr th:only-of-type {\n",
              "        vertical-align: middle;\n",
              "    }\n",
              "\n",
              "    .dataframe tbody tr th {\n",
              "        vertical-align: top;\n",
              "    }\n",
              "\n",
              "    .dataframe thead th {\n",
              "        text-align: right;\n",
              "    }\n",
              "</style>\n",
              "<table border=\"1\" class=\"dataframe\">\n",
              "  <thead>\n",
              "    <tr style=\"text-align: right;\">\n",
              "      <th></th>\n",
              "      <th>FISCAL YEAR</th>\n",
              "      <th>Total</th>\n",
              "      <th>DEFICIT</th>\n",
              "      <th>TOTAL EXPENDITURE</th>\n",
              "      <th>TOTAL REVENUE</th>\n",
              "    </tr>\n",
              "  </thead>\n",
              "  <tbody>\n",
              "    <tr>\n",
              "      <th>34</th>\n",
              "      <td>2003</td>\n",
              "      <td>633037</td>\n",
              "      <td>29385</td>\n",
              "      <td>143691</td>\n",
              "      <td>114306</td>\n",
              "    </tr>\n",
              "    <tr>\n",
              "      <th>35</th>\n",
              "      <td>2003</td>\n",
              "      <td>631662</td>\n",
              "      <td>30735</td>\n",
              "      <td>166298</td>\n",
              "      <td>135563</td>\n",
              "    </tr>\n",
              "    <tr>\n",
              "      <th>36</th>\n",
              "      <td>2003</td>\n",
              "      <td>635620</td>\n",
              "      <td>31036</td>\n",
              "      <td>182121</td>\n",
              "      <td>151085</td>\n",
              "    </tr>\n",
              "    <tr>\n",
              "      <th>37</th>\n",
              "      <td>2003</td>\n",
              "      <td>639688</td>\n",
              "      <td>34135</td>\n",
              "      <td>204334</td>\n",
              "      <td>170199</td>\n",
              "    </tr>\n",
              "    <tr>\n",
              "      <th>38</th>\n",
              "      <td>2003</td>\n",
              "      <td>642660</td>\n",
              "      <td>43677</td>\n",
              "      <td>231008</td>\n",
              "      <td>187331</td>\n",
              "    </tr>\n",
              "  </tbody>\n",
              "</table>\n",
              "</div>\n",
              "      <button class=\"colab-df-convert\" onclick=\"convertToInteractive('df-261a85f3-f18d-421b-abe8-239eeed22414')\"\n",
              "              title=\"Convert this dataframe to an interactive table.\"\n",
              "              style=\"display:none;\">\n",
              "        \n",
              "  <svg xmlns=\"http://www.w3.org/2000/svg\" height=\"24px\"viewBox=\"0 0 24 24\"\n",
              "       width=\"24px\">\n",
              "    <path d=\"M0 0h24v24H0V0z\" fill=\"none\"/>\n",
              "    <path d=\"M18.56 5.44l.94 2.06.94-2.06 2.06-.94-2.06-.94-.94-2.06-.94 2.06-2.06.94zm-11 1L8.5 8.5l.94-2.06 2.06-.94-2.06-.94L8.5 2.5l-.94 2.06-2.06.94zm10 10l.94 2.06.94-2.06 2.06-.94-2.06-.94-.94-2.06-.94 2.06-2.06.94z\"/><path d=\"M17.41 7.96l-1.37-1.37c-.4-.4-.92-.59-1.43-.59-.52 0-1.04.2-1.43.59L10.3 9.45l-7.72 7.72c-.78.78-.78 2.05 0 2.83L4 21.41c.39.39.9.59 1.41.59.51 0 1.02-.2 1.41-.59l7.78-7.78 2.81-2.81c.8-.78.8-2.07 0-2.86zM5.41 20L4 18.59l7.72-7.72 1.47 1.35L5.41 20z\"/>\n",
              "  </svg>\n",
              "      </button>\n",
              "      \n",
              "  <style>\n",
              "    .colab-df-container {\n",
              "      display:flex;\n",
              "      flex-wrap:wrap;\n",
              "      gap: 12px;\n",
              "    }\n",
              "\n",
              "    .colab-df-convert {\n",
              "      background-color: #E8F0FE;\n",
              "      border: none;\n",
              "      border-radius: 50%;\n",
              "      cursor: pointer;\n",
              "      display: none;\n",
              "      fill: #1967D2;\n",
              "      height: 32px;\n",
              "      padding: 0 0 0 0;\n",
              "      width: 32px;\n",
              "    }\n",
              "\n",
              "    .colab-df-convert:hover {\n",
              "      background-color: #E2EBFA;\n",
              "      box-shadow: 0px 1px 2px rgba(60, 64, 67, 0.3), 0px 1px 3px 1px rgba(60, 64, 67, 0.15);\n",
              "      fill: #174EA6;\n",
              "    }\n",
              "\n",
              "    [theme=dark] .colab-df-convert {\n",
              "      background-color: #3B4455;\n",
              "      fill: #D2E3FC;\n",
              "    }\n",
              "\n",
              "    [theme=dark] .colab-df-convert:hover {\n",
              "      background-color: #434B5C;\n",
              "      box-shadow: 0px 1px 3px 1px rgba(0, 0, 0, 0.15);\n",
              "      filter: drop-shadow(0px 1px 2px rgba(0, 0, 0, 0.3));\n",
              "      fill: #FFFFFF;\n",
              "    }\n",
              "  </style>\n",
              "\n",
              "      <script>\n",
              "        const buttonEl =\n",
              "          document.querySelector('#df-261a85f3-f18d-421b-abe8-239eeed22414 button.colab-df-convert');\n",
              "        buttonEl.style.display =\n",
              "          google.colab.kernel.accessAllowed ? 'block' : 'none';\n",
              "\n",
              "        async function convertToInteractive(key) {\n",
              "          const element = document.querySelector('#df-261a85f3-f18d-421b-abe8-239eeed22414');\n",
              "          const dataTable =\n",
              "            await google.colab.kernel.invokeFunction('convertToInteractive',\n",
              "                                                     [key], {});\n",
              "          if (!dataTable) return;\n",
              "\n",
              "          const docLinkHtml = 'Like what you see? Visit the ' +\n",
              "            '<a target=\"_blank\" href=https://colab.research.google.com/notebooks/data_table.ipynb>data table notebook</a>'\n",
              "            + ' to learn more about interactive tables.';\n",
              "          element.innerHTML = '';\n",
              "          dataTable['output_type'] = 'display_data';\n",
              "          await google.colab.output.renderOutput(dataTable, element);\n",
              "          const docLink = document.createElement('div');\n",
              "          docLink.innerHTML = docLinkHtml;\n",
              "          element.appendChild(docLink);\n",
              "        }\n",
              "      </script>\n",
              "    </div>\n",
              "  </div>\n",
              "  "
            ]
          },
          "metadata": {},
          "execution_count": 414
        }
      ]
    },
    {
      "cell_type": "markdown",
      "source": [
        "# Uhuru Tenure"
      ],
      "metadata": {
        "id": "3xwVn0k2SS_0"
      }
    },
    {
      "cell_type": "code",
      "source": [
        "#Uhuru Tenure\n",
        "#Uhuru Expenditure\n",
        "#Uhuru Expenditures and Revenues\n",
        "#UhuruDeficit\n",
        "Uhuru_Regime= (Revenues_Expenditures['FISCAL YEAR']>= 2013) & (Revenues_Expenditures['FISCAL YEAR'] <= 2022)\n",
        "Uhuru_Rev= pd.DataFrame(Revenues_Expenditures['TOTAL REVENUE'][Uhuru_Regime])\n",
        "Uhuru_Exp=pd.DataFrame(Revenues_Expenditures['TOTAL EXPENDITURE'][Uhuru_Regime])\n",
        "Uhuru_Deficit=pd.DataFrame(Revenues_Expenditures.DEFICIT[Uhuru_Regime])\n",
        "Uhurus=pd.DataFrame(Revenues_Expenditures['FISCAL YEAR'][Uhuru_Regime])\n",
        "#Uhuru's Debt\n",
        "Uhurus_Regime= (Debt['Year']>= 2013) & (Debt['Year'] <= 2022)\n",
        "Uhurus_Debt=pd.DataFrame(Debt['Total'][Uhurus_Regime])\n"
      ],
      "metadata": {
        "id": "lsh0h1ajRqis"
      },
      "execution_count": 410,
      "outputs": []
    },
    {
      "cell_type": "code",
      "source": [
        "Uhuru=pd.concat([Uhurus,Uhurus_Debt,Uhuru_Deficit,Uhuru_Exp,Uhuru_Rev],axis=1)"
      ],
      "metadata": {
        "id": "iIpo3mZndX-J"
      },
      "execution_count": 412,
      "outputs": []
    },
    {
      "cell_type": "code",
      "source": [
        "Uhuru.head()"
      ],
      "metadata": {
        "colab": {
          "base_uri": "https://localhost:8080/",
          "height": 206
        },
        "id": "Hp2UughKjtIu",
        "outputId": "11eff4ec-dae8-453a-f423-b3bcc0e6e5a0"
      },
      "execution_count": 413,
      "outputs": [
        {
          "output_type": "execute_result",
          "data": {
            "text/plain": [
              "     FISCAL YEAR    Total   DEFICIT  TOTAL EXPENDITURE  TOTAL REVENUE\n",
              "154       2013.0  1811945  169972.0           589548.0       419576.0\n",
              "155       2013.0  1770017  186905.0           660191.0       473286.0\n",
              "156       2013.0  1794611  242484.0           774076.0       531592.0\n",
              "157       2013.0  1882405  219172.0           878171.0       658999.0\n",
              "158       2013.0  1907035  290475.0           985521.0       695046.0"
            ],
            "text/html": [
              "\n",
              "  <div id=\"df-ea515b1b-cc1f-4373-9b37-5e242de5a345\">\n",
              "    <div class=\"colab-df-container\">\n",
              "      <div>\n",
              "<style scoped>\n",
              "    .dataframe tbody tr th:only-of-type {\n",
              "        vertical-align: middle;\n",
              "    }\n",
              "\n",
              "    .dataframe tbody tr th {\n",
              "        vertical-align: top;\n",
              "    }\n",
              "\n",
              "    .dataframe thead th {\n",
              "        text-align: right;\n",
              "    }\n",
              "</style>\n",
              "<table border=\"1\" class=\"dataframe\">\n",
              "  <thead>\n",
              "    <tr style=\"text-align: right;\">\n",
              "      <th></th>\n",
              "      <th>FISCAL YEAR</th>\n",
              "      <th>Total</th>\n",
              "      <th>DEFICIT</th>\n",
              "      <th>TOTAL EXPENDITURE</th>\n",
              "      <th>TOTAL REVENUE</th>\n",
              "    </tr>\n",
              "  </thead>\n",
              "  <tbody>\n",
              "    <tr>\n",
              "      <th>154</th>\n",
              "      <td>2013.0</td>\n",
              "      <td>1811945</td>\n",
              "      <td>169972.0</td>\n",
              "      <td>589548.0</td>\n",
              "      <td>419576.0</td>\n",
              "    </tr>\n",
              "    <tr>\n",
              "      <th>155</th>\n",
              "      <td>2013.0</td>\n",
              "      <td>1770017</td>\n",
              "      <td>186905.0</td>\n",
              "      <td>660191.0</td>\n",
              "      <td>473286.0</td>\n",
              "    </tr>\n",
              "    <tr>\n",
              "      <th>156</th>\n",
              "      <td>2013.0</td>\n",
              "      <td>1794611</td>\n",
              "      <td>242484.0</td>\n",
              "      <td>774076.0</td>\n",
              "      <td>531592.0</td>\n",
              "    </tr>\n",
              "    <tr>\n",
              "      <th>157</th>\n",
              "      <td>2013.0</td>\n",
              "      <td>1882405</td>\n",
              "      <td>219172.0</td>\n",
              "      <td>878171.0</td>\n",
              "      <td>658999.0</td>\n",
              "    </tr>\n",
              "    <tr>\n",
              "      <th>158</th>\n",
              "      <td>2013.0</td>\n",
              "      <td>1907035</td>\n",
              "      <td>290475.0</td>\n",
              "      <td>985521.0</td>\n",
              "      <td>695046.0</td>\n",
              "    </tr>\n",
              "  </tbody>\n",
              "</table>\n",
              "</div>\n",
              "      <button class=\"colab-df-convert\" onclick=\"convertToInteractive('df-ea515b1b-cc1f-4373-9b37-5e242de5a345')\"\n",
              "              title=\"Convert this dataframe to an interactive table.\"\n",
              "              style=\"display:none;\">\n",
              "        \n",
              "  <svg xmlns=\"http://www.w3.org/2000/svg\" height=\"24px\"viewBox=\"0 0 24 24\"\n",
              "       width=\"24px\">\n",
              "    <path d=\"M0 0h24v24H0V0z\" fill=\"none\"/>\n",
              "    <path d=\"M18.56 5.44l.94 2.06.94-2.06 2.06-.94-2.06-.94-.94-2.06-.94 2.06-2.06.94zm-11 1L8.5 8.5l.94-2.06 2.06-.94-2.06-.94L8.5 2.5l-.94 2.06-2.06.94zm10 10l.94 2.06.94-2.06 2.06-.94-2.06-.94-.94-2.06-.94 2.06-2.06.94z\"/><path d=\"M17.41 7.96l-1.37-1.37c-.4-.4-.92-.59-1.43-.59-.52 0-1.04.2-1.43.59L10.3 9.45l-7.72 7.72c-.78.78-.78 2.05 0 2.83L4 21.41c.39.39.9.59 1.41.59.51 0 1.02-.2 1.41-.59l7.78-7.78 2.81-2.81c.8-.78.8-2.07 0-2.86zM5.41 20L4 18.59l7.72-7.72 1.47 1.35L5.41 20z\"/>\n",
              "  </svg>\n",
              "      </button>\n",
              "      \n",
              "  <style>\n",
              "    .colab-df-container {\n",
              "      display:flex;\n",
              "      flex-wrap:wrap;\n",
              "      gap: 12px;\n",
              "    }\n",
              "\n",
              "    .colab-df-convert {\n",
              "      background-color: #E8F0FE;\n",
              "      border: none;\n",
              "      border-radius: 50%;\n",
              "      cursor: pointer;\n",
              "      display: none;\n",
              "      fill: #1967D2;\n",
              "      height: 32px;\n",
              "      padding: 0 0 0 0;\n",
              "      width: 32px;\n",
              "    }\n",
              "\n",
              "    .colab-df-convert:hover {\n",
              "      background-color: #E2EBFA;\n",
              "      box-shadow: 0px 1px 2px rgba(60, 64, 67, 0.3), 0px 1px 3px 1px rgba(60, 64, 67, 0.15);\n",
              "      fill: #174EA6;\n",
              "    }\n",
              "\n",
              "    [theme=dark] .colab-df-convert {\n",
              "      background-color: #3B4455;\n",
              "      fill: #D2E3FC;\n",
              "    }\n",
              "\n",
              "    [theme=dark] .colab-df-convert:hover {\n",
              "      background-color: #434B5C;\n",
              "      box-shadow: 0px 1px 3px 1px rgba(0, 0, 0, 0.15);\n",
              "      filter: drop-shadow(0px 1px 2px rgba(0, 0, 0, 0.3));\n",
              "      fill: #FFFFFF;\n",
              "    }\n",
              "  </style>\n",
              "\n",
              "      <script>\n",
              "        const buttonEl =\n",
              "          document.querySelector('#df-ea515b1b-cc1f-4373-9b37-5e242de5a345 button.colab-df-convert');\n",
              "        buttonEl.style.display =\n",
              "          google.colab.kernel.accessAllowed ? 'block' : 'none';\n",
              "\n",
              "        async function convertToInteractive(key) {\n",
              "          const element = document.querySelector('#df-ea515b1b-cc1f-4373-9b37-5e242de5a345');\n",
              "          const dataTable =\n",
              "            await google.colab.kernel.invokeFunction('convertToInteractive',\n",
              "                                                     [key], {});\n",
              "          if (!dataTable) return;\n",
              "\n",
              "          const docLinkHtml = 'Like what you see? Visit the ' +\n",
              "            '<a target=\"_blank\" href=https://colab.research.google.com/notebooks/data_table.ipynb>data table notebook</a>'\n",
              "            + ' to learn more about interactive tables.';\n",
              "          element.innerHTML = '';\n",
              "          dataTable['output_type'] = 'display_data';\n",
              "          await google.colab.output.renderOutput(dataTable, element);\n",
              "          const docLink = document.createElement('div');\n",
              "          docLink.innerHTML = docLinkHtml;\n",
              "          element.appendChild(docLink);\n",
              "        }\n",
              "      </script>\n",
              "    </div>\n",
              "  </div>\n",
              "  "
            ]
          },
          "metadata": {},
          "execution_count": 413
        }
      ]
    }
  ],
  "metadata": {
    "colab": {
      "provenance": []
    },
    "kernelspec": {
      "display_name": "Python 3",
      "name": "python3"
    },
    "language_info": {
      "name": "python"
    }
  },
  "nbformat": 4,
  "nbformat_minor": 0
}